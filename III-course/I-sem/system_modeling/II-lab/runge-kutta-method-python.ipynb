{
 "cells": [
  {
   "cell_type": "code",
   "execution_count": 1,
   "metadata": {},
   "outputs": [],
   "source": [
    "import numpy as np"
   ]
  },
  {
   "cell_type": "code",
   "execution_count": 2,
   "metadata": {},
   "outputs": [],
   "source": [
    "# Setting initial parameters\n",
    "y_func = np.loadtxt('y1.txt', dtype=np.float128)\n",
    "\n",
    "dt = np.float128(0.2)\n",
    "T = 50.\n",
    "time = np.arange(0, T + dt, dt)\n",
    "beta = np.array([0.1, 10., 21.], dtype=np.float128)  # [c3, m1, m3]\n",
    "eps = 1e-9\n",
    "abs_eps = 1e-12\n",
    "_, n = y_func.shape"
   ]
  },
  {
   "cell_type": "code",
   "execution_count": 3,
   "metadata": {},
   "outputs": [
    {
     "name": "stdout",
     "output_type": "stream",
     "text": [
      "Iteration 1. Quality score of beta identification 28.550785190215727\n",
      "Iteration 2. Quality score of beta identification 2.774030840628150\n",
      "Iteration 3. Quality score of beta identification 0.083450176880015\n",
      "Iteration 4. Quality score of beta identification 0.000073042203514\n",
      "Iteration 5. Quality score of beta identification 0.000000011476591\n",
      "Iteration 6. Quality score of beta identification 0.000000010692351\n",
      "Iteration 7. Quality score of beta identification 0.000000010692340\n"
     ]
    }
   ],
   "source": [
    "identification_beta = 1\n",
    "prev_ident_beta = 0\n",
    "iteration_num = 0\n",
    "\n",
    "while (identification_beta > eps) and (np.abs(prev_ident_beta - identification_beta) > abs_eps):\n",
    "\n",
    "    rigidity_param = np.array([0.14, 0.3, beta[0], 0.12], dtype=np.float128)  # [c1, c2, c3, c4]\n",
    "    weight = np.array([beta[1], 28., beta[2]], dtype=np.float128)  # [m1, m2, m3]\n",
    "\n",
    "    # calculating A\n",
    "    A = np.zeros((6, 6), dtype=np.float128)\n",
    "    iteration_num += 1\n",
    "    A[0, 1] = 1.\n",
    "    A[1, 0] = -(rigidity_param[0] + rigidity_param[1]) / weight[0]\n",
    "    A[1, 2] = rigidity_param[1] / weight[0]\n",
    "    A[2, 3] = 1.\n",
    "    A[3, 0] = rigidity_param[1] / weight[1]\n",
    "    A[3, 2] = -(rigidity_param[1] + rigidity_param[2]) / weight[1]\n",
    "    A[3, 4] = rigidity_param[2] / weight[1]\n",
    "    A[4, 5] = 1.\n",
    "    A[5, 2] = rigidity_param[2] / weight[2]\n",
    "    A[5, 4] = -(rigidity_param[3] + rigidity_param[2]) / weight[2]\n",
    "\n",
    "    # derivative dA/d beta^T\n",
    "    dA1 = np.zeros_like(A)\n",
    "    dA2 = np.zeros_like(A)\n",
    "    dA3 = np.zeros_like(A)\n",
    "\n",
    "    dA1[3, 2] = -1. / weight[1]\n",
    "    dA1[3, 4] = 1. / weight[1]\n",
    "    dA1[5, 2] = 1. / weight[2]\n",
    "    dA1[5, 4] = -1. / weight[2]\n",
    "\n",
    "    dA2[1, 0] = (rigidity_param[1] + rigidity_param[0]) / (weight[0] * weight[0])\n",
    "    dA2[1, 2] = -(rigidity_param[1]) / (weight[0] * weight[0])\n",
    "\n",
    "    dA3[5, 2] = -(rigidity_param[2]) / (weight[2] * weight[2])\n",
    "    dA3[5, 4] = (rigidity_param[3] + rigidity_param[2]) / (weight[2] * weight[2])\n",
    "\n",
    "    # Runge-Kutta method\n",
    "    left_int_part = 0.\n",
    "    right_int_part = 0.\n",
    "    temp_iden_beta = 0.\n",
    "    \n",
    "    U = np.zeros((6, 3))\n",
    "    y_vec = np.copy(y_func[:, 0].reshape(-1, 1))\n",
    "\n",
    "    for i in range(1, n):\n",
    "        # Update U\n",
    "        delta_U = np.column_stack(((dA1 @ y_vec).reshape(-1), \n",
    "                                   (dA2 @ y_vec).reshape(-1), (dA3 @ y_vec).reshape(-1)))\n",
    "        \n",
    "        K1 = dt * ((A @ U) + delta_U)\n",
    "        K2 = dt * ((A @ (U + .5 * K1)) + delta_U)\n",
    "        K3 = dt * ((A @ (U + .5 * K2)) + delta_U)\n",
    "        K4 = dt * ((A @ (U + K3)) + delta_U)\n",
    "        U += (1. / 6. * (K1 + 2. * K2 + 2. * K3 + K4))\n",
    "\n",
    "        # Calculate new y\n",
    "        k1 = dt * (A @ y_vec)\n",
    "        k2 = dt * (A @ (y_vec + .5 * k1))\n",
    "        k3 = dt * (A @ (y_vec + .5 * k2))\n",
    "        k4 = dt * (A @ (y_vec + k3))\n",
    "        y_vec += 1. / 6. * (k1 + 2. * k2 + 2. * k3 + k4)\n",
    "        \n",
    "        left_int_part += U.T @ U\n",
    "        right_int_part += U.T @ (y_func[:, i].reshape(-1, 1) - y_vec)\n",
    "\n",
    "        temp_iden_beta += (y_func[:, i].reshape(-1, 1) - y_vec).T @ (y_func[:, i] - y_vec.reshape(-1))\n",
    "\n",
    "    dBeta = np.linalg.inv(left_int_part * dt) @ (right_int_part * dt)\n",
    "    beta += dBeta.reshape(-1)\n",
    "\n",
    "    prev_ident_beta = identification_beta\n",
    "    identification_beta = temp_iden_beta * dt\n",
    "\n",
    "    print('Iteration {0}. Quality score of beta identification {1:.15f}'.format(iteration_num,\n",
    "                                                                                identification_beta[0]))\n"
   ]
  },
  {
   "cell_type": "code",
   "execution_count": 4,
   "metadata": {},
   "outputs": [
    {
     "name": "stdout",
     "output_type": "stream",
     "text": [
      "Beta [ 0.19999989 11.99999485 17.9999918 ]\n"
     ]
    }
   ],
   "source": [
    "print('Beta', beta)"
   ]
  }
 ],
 "metadata": {
  "kernelspec": {
   "display_name": "Python 3",
   "language": "python",
   "name": "python3"
  },
  "language_info": {
   "codemirror_mode": {
    "name": "ipython",
    "version": 3
   },
   "file_extension": ".py",
   "mimetype": "text/x-python",
   "name": "python",
   "nbconvert_exporter": "python",
   "pygments_lexer": "ipython3",
   "version": "3.6.6"
  }
 },
 "nbformat": 4,
 "nbformat_minor": 2
}
